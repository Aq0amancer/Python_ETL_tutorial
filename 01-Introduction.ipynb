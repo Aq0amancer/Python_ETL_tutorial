{
 "cells": [
  {
   "cell_type": "markdown",
   "metadata": {},
   "source": [
    "# 1. Introduction"
   ]
  },
  {
   "cell_type": "markdown",
   "metadata": {
    "id": "b4TSFgh1prEx"
   },
   "source": [
    "Original notebook from https://github.com/rajathkmp/Python-Lectures \n",
    "Adapted by Sem Vijverberg for the series 'Python skills for research in Hydrology' for the master Hydrology at the Vrije Universiteit Amsterdam (2019).\n",
    "\n",
    "Another great free resource to learn Python for Data Science is provided by edX. It discusses these Python basics in more detail. https://www.youtube.com/playlist?list=PL2fCZiDqOYYWvJSoIV9J3n-hlZIEoKEdu\n"
   ]
  },
  {
   "cell_type": "markdown",
   "metadata": {
    "id": "t0KoDu7DprEx"
   },
   "source": [
    "#The Zen Of Python"
   ]
  },
  {
   "cell_type": "code",
   "execution_count": 1,
   "metadata": {
    "collapsed": false,
    "id": "-O0zf8RmprEx",
    "jupyter": {
     "outputs_hidden": false
    },
    "outputId": "b935056b-bac6-4807-d489-2937cd7831fa"
   },
   "outputs": [
    {
     "name": "stdout",
     "output_type": "stream",
     "text": [
      "The Zen of Python, by Tim Peters\n",
      "\n",
      "Beautiful is better than ugly.\n",
      "Explicit is better than implicit.\n",
      "Simple is better than complex.\n",
      "Complex is better than complicated.\n",
      "Flat is better than nested.\n",
      "Sparse is better than dense.\n",
      "Readability counts.\n",
      "Special cases aren't special enough to break the rules.\n",
      "Although practicality beats purity.\n",
      "Errors should never pass silently.\n",
      "Unless explicitly silenced.\n",
      "In the face of ambiguity, refuse the temptation to guess.\n",
      "There should be one-- and preferably only one --obvious way to do it.\n",
      "Although that way may not be obvious at first unless you're Dutch.\n",
      "Now is better than never.\n",
      "Although never is often better than *right* now.\n",
      "If the implementation is hard to explain, it's a bad idea.\n",
      "If the implementation is easy to explain, it may be a good idea.\n",
      "Namespaces are one honking great idea -- let's do more of those!\n"
     ]
    }
   ],
   "source": [
    "import this"
   ]
  },
  {
   "cell_type": "markdown",
   "metadata": {
    "id": "lMbg_KebprEy"
   },
   "source": [
    "# Jupyter notebooks\n",
    "Jupyter notebooks combine the ability to make nice documentation in combination with python code, which is perfect for our needs in these tutorials and practicums.\n",
    "\n",
    "Jupyter notebooks work with cells, each cell can be used to type either Python language or Markdown (text editing language). "
   ]
  },
  {
   "cell_type": "markdown",
   "metadata": {
    "id": "hJNEFHd6prEy"
   },
   "source": [
    "## Jupyter notebook shortcuts\n",
    "- Shift + Enter run the current cell, select below\n",
    "- Ctrl/Cmd + Enter run selected cells\n",
    "- Ctrl/Cmd + S save and checkpoint\n",
    "- Enter take you into edit mode\n",
    "- A insert cell above\n",
    "- B insert cell below\n",
    "- C copy selected cells\n",
    "- V paste cells below\n",
    "- Z undo cell deletion\n",
    "- M change the cell type to Markdown\n",
    "- Y change the cell type to Code\n",
    "- H show all shortcuts"
   ]
  },
  {
   "cell_type": "markdown",
   "metadata": {
    "id": "iyNP54xjprEy"
   },
   "source": [
    "## Object types and variables"
   ]
  },
  {
   "cell_type": "markdown",
   "metadata": {
    "id": "qZZ3fOEKprEy"
   },
   "source": [
    "The Python language follows certain syntax rules and provides some basic functions (e.g. for loops, while loops, if statements, abs(), max(), etc..) and different object types (str, list, function, integer, float, class, dictionary, etc..) to write a code. \n",
    "You can view what object type you are dealing with by type( your_variable ):\n"
   ]
  },
  {
   "cell_type": "markdown",
   "metadata": {
    "id": "_2LIzaR-prEy"
   },
   "source": [
    "### string"
   ]
  },
  {
   "cell_type": "code",
   "execution_count": 2,
   "metadata": {
    "id": "ggBJ-uNQprEy",
    "outputId": "f93d79d9-92b4-479b-c750-7490f409e575"
   },
   "outputs": [
    {
     "data": {
      "text/plain": [
       "str"
      ]
     },
     "execution_count": 2,
     "metadata": {},
     "output_type": "execute_result"
    }
   ],
   "source": [
    "type('this is a string')"
   ]
  },
  {
   "cell_type": "markdown",
   "metadata": {
    "id": "iPiDO4dRprEy"
   },
   "source": [
    "### Numbers"
   ]
  },
  {
   "cell_type": "markdown",
   "metadata": {
    "id": "H9b8A4-NprEy"
   },
   "source": [
    "Commonly used number datatypes are: \n",
    "- integers (0, 1, 2, 3, .., 99)\n",
    "- floats   (0.5, 1.9, 1E-9)\n",
    "- boolean  (True, False)"
   ]
  },
  {
   "cell_type": "code",
   "execution_count": 3,
   "metadata": {
    "id": "FjJi6WRzprEy",
    "outputId": "641892a7-bd53-4102-efa4-d5a8e3c1e5f7"
   },
   "outputs": [
    {
     "name": "stdout",
     "output_type": "stream",
     "text": [
      "integer number datatype (dtype): <class 'int'>\n",
      "float number datatype (dtype): <class 'float'>\n",
      "boolean datatype (dtype): <class 'bool'>\n"
     ]
    }
   ],
   "source": [
    "print('integer number datatype (dtype):', type(10))\n",
    "print('float number datatype (dtype):', type(10.0))\n",
    "print('boolean datatype (dtype):', type(True))"
   ]
  },
  {
   "cell_type": "markdown",
   "metadata": {
    "id": "OrFL53iaprEy"
   },
   "source": [
    "In programming, we can point to a value with a certain variable name. \n",
    "Assigning an object (the integer 10) to a variable name called 'variable_name_pointing_to'"
   ]
  },
  {
   "cell_type": "code",
   "execution_count": 4,
   "metadata": {
    "id": "ASFjyMD0prEy"
   },
   "outputs": [],
   "source": [
    "variable_name_pointing_to = 10"
   ]
  },
  {
   "cell_type": "code",
   "execution_count": 5,
   "metadata": {
    "id": "UoamEDFwprEy",
    "outputId": "a1b1704f-0fc6-4ab6-99ec-3cfd6cf1d95f",
    "scrolled": true
   },
   "outputs": [
    {
     "data": {
      "text/plain": [
       "int"
      ]
     },
     "execution_count": 5,
     "metadata": {},
     "output_type": "execute_result"
    }
   ],
   "source": [
    "type(variable_name_pointing_to)"
   ]
  },
  {
   "cell_type": "markdown",
   "metadata": {
    "id": "gd_rZlmhprEz"
   },
   "source": [
    "## Dictionaries"
   ]
  },
  {
   "cell_type": "markdown",
   "metadata": {
    "id": "J4AyiwXMprEz"
   },
   "source": [
    "Another object type in python is called a dictionary, and they consist of a key : value pair(s), for example: "
   ]
  },
  {
   "cell_type": "code",
   "execution_count": 6,
   "metadata": {
    "id": "Y71CfXJMprEz",
    "outputId": "d4970555-41cb-4476-cf8e-5eda5fa09c1e",
    "scrolled": true
   },
   "outputs": [
    {
     "name": "stdout",
     "output_type": "stream",
     "text": [
      "<class 'dict'>\n",
      "{'key': 10}\n",
      "dict_keys(['key'])\n",
      "dict_values([10])\n",
      "dict_items([('key', 10)])\n"
     ]
    }
   ],
   "source": [
    "d = {'key': 10}\n",
    "print(type(d))\n",
    "print(d)\n",
    "print(d.keys())\n",
    "print(d.values())\n",
    "print(d.items())"
   ]
  },
  {
   "cell_type": "markdown",
   "metadata": {
    "id": "ybK-wON1prEz"
   },
   "source": [
    "# Operators"
   ]
  },
  {
   "cell_type": "markdown",
   "metadata": {
    "id": "vCStVHKmprEz"
   },
   "source": [
    "## Arithmetic Operators"
   ]
  },
  {
   "cell_type": "markdown",
   "metadata": {
    "id": "FHKKwacaprEz"
   },
   "source": [
    "| Symbol | Task Performed |\n",
    "|----|---|\n",
    "| +  | Addition |\n",
    "| -  | Subtraction |\n",
    "| /  | division |\n",
    "| %  | mod |\n",
    "| *  | multiplication |\n",
    "| //  | floor division |\n",
    "| **  | to the power of |"
   ]
  },
  {
   "cell_type": "markdown",
   "metadata": {},
   "source": [
    "Create two data series for arithmetic operations"
   ]
  },
  {
   "cell_type": "code",
   "execution_count": null,
   "metadata": {},
   "outputs": [],
   "source": [
    "df1 = pd.DataFrame(\n",
    "    np.arange(6).reshape(2, 3), columns=list(\"ABC\"), index=[\"Tim\", \"Tom\"]\n",
    ")\n",
    "df2 = pd.DataFrame(\n",
    "    np.arange(9).reshape(3, 3), columns=list(\"ACD\"), index=[\"Tim\", \"Kate\", \"Tom\"]\n",
    ")"
   ]
  },
  {
   "cell_type": "code",
   "execution_count": null,
   "metadata": {},
   "outputs": [],
   "source": [
    "# add dataframes\n",
    "df1 + df2"
   ]
  },
  {
   "cell_type": "code",
   "execution_count": null,
   "metadata": {},
   "outputs": [],
   "source": [
    "# Divide\n",
    "1 / df1"
   ]
  },
  {
   "cell_type": "code",
   "execution_count": null,
   "metadata": {},
   "outputs": [],
   "source": [
    "# Multiply\n",
    "df1*3"
   ]
  },
  {
   "cell_type": "markdown",
   "metadata": {
    "id": "3wIJ93x9prE0"
   },
   "source": [
    "## Relational Operators"
   ]
  },
  {
   "cell_type": "markdown",
   "metadata": {
    "id": "y2rQNVlgprE0"
   },
   "source": [
    "| Symbol | Task Performed |\n",
    "|----|---|\n",
    "| == | True, if it is equal |\n",
    "| !=  | True, if not equal to |\n",
    "| < | less than |\n",
    "| > | greater than |\n",
    "| <=  | less than or equal to |\n",
    "| >=  | greater than or equal to |"
   ]
  },
  {
   "cell_type": "code",
   "execution_count": null,
   "metadata": {
    "collapsed": true,
    "id": "E7JVxFSBprE0",
    "jupyter": {
     "outputs_hidden": true
    }
   },
   "outputs": [],
   "source": [
    "# Set up variable\n",
    "z = 1"
   ]
  },
  {
   "cell_type": "code",
   "execution_count": null,
   "metadata": {
    "collapsed": false,
    "id": "7PrfdUNOprE0",
    "jupyter": {
     "outputs_hidden": false
    },
    "outputId": "ad3c46b9-3ad4-4bb3-e7c7-cb60786e090f"
   },
   "outputs": [
    {
     "data": {
      "text/plain": [
       "True"
      ]
     },
     "execution_count": 37,
     "metadata": {
      "tags": []
     },
     "output_type": "execute_result"
    }
   ],
   "source": [
    "# Check if value equals to\n",
    "z == 1"
   ]
  },
  {
   "cell_type": "code",
   "execution_count": null,
   "metadata": {
    "collapsed": false,
    "id": "7CYUKRoyprE0",
    "jupyter": {
     "outputs_hidden": false
    },
    "outputId": "5de9ba9a-e555-4135-eff9-5e00872248bf"
   },
   "outputs": [
    {
     "data": {
      "text/plain": [
       "False"
      ]
     },
     "execution_count": 38,
     "metadata": {
      "tags": []
     },
     "output_type": "execute_result"
    }
   ],
   "source": [
    "# Check if value greater\n",
    "z > 1"
   ]
  },
  {
   "cell_type": "markdown",
   "metadata": {
    "id": "1sBSj4U1prE0"
   },
   "source": [
    "## Simplifying Arithmetic Operations"
   ]
  },
  {
   "cell_type": "markdown",
   "metadata": {
    "id": "ycQ0IBlhprE0"
   },
   "source": [
    "**round( )** function rounds the input value to a specified number of places or to the nearest integer. "
   ]
  },
  {
   "cell_type": "code",
   "execution_count": null,
   "metadata": {
    "collapsed": false,
    "id": "hDmblUzQprE0",
    "jupyter": {
     "outputs_hidden": false
    },
    "outputId": "6fedd0e6-5890-4770-967d-36036d04ca24"
   },
   "outputs": [
    {
     "name": "stdout",
     "output_type": "stream",
     "text": [
      "6\n",
      "4.56\n"
     ]
    }
   ],
   "source": [
    "print(round(5.6231) )\n",
    "print(round(4.55892, 2))"
   ]
  },
  {
   "cell_type": "markdown",
   "metadata": {
    "id": "3BV-mTE1prE0"
   },
   "source": [
    "**range( )** function outputs the integers of the specified range. It can also be used to generate a series by specifying the difference between the two numbers within a particular range. The elements are returned in a list (will be discussing in detail later.)"
   ]
  },
  {
   "cell_type": "code",
   "execution_count": null,
   "metadata": {
    "collapsed": false,
    "id": "FyBsGAxEprE0",
    "jupyter": {
     "outputs_hidden": false
    },
    "outputId": "d3279cca-f365-473c-debb-3422ec50267e"
   },
   "outputs": [
    {
     "name": "stdout",
     "output_type": "stream",
     "text": [
      "range(0, 3)\n",
      "range(2, 9)\n",
      "range(2, 27, 8)\n"
     ]
    }
   ],
   "source": [
    "print(range(3))\n",
    "print(range(2,9))\n",
    "print(range(2,27,8))"
   ]
  }
 ],
 "metadata": {
  "colab": {
   "collapsed_sections": [],
   "name": "0_0_python_objects_and_datatypes.ipynb",
   "provenance": []
  },
  "kernelspec": {
   "display_name": "Python 3",
   "language": "python",
   "name": "python3"
  },
  "language_info": {
   "codemirror_mode": {
    "name": "ipython",
    "version": 3
   },
   "file_extension": ".py",
   "mimetype": "text/x-python",
   "name": "python",
   "nbconvert_exporter": "python",
   "pygments_lexer": "ipython3",
   "version": "3.7.3"
  }
 },
 "nbformat": 4,
 "nbformat_minor": 4
}
